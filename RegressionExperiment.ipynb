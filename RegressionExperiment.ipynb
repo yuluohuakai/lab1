{
 "cells": [
  {
   "cell_type": "code",
   "execution_count": 1,
   "metadata": {},
   "outputs": [
    {
     "data": {
      "image/png": "[encoded data removed]",
      "text/plain": [
       "<matplotlib.figure.Figure at 0xe43bb46be0>"
      ]
     },
     "metadata": {},
     "output_type": "display_data"
    }
   ],
   "source": [
    "#实验名称：线性回归和梯度下降\n",
    "#实验日期：2017/12/2\n",
    "#实验目的：理解线性回归和梯度下降的原理\n",
    "\n",
    "import os \n",
    "os.chdir('E://dataset')\n",
    "import numpy as np\n",
    "import matplotlib.pyplot as plt\n",
    "from sklearn.datasets import load_svmlight_file\n",
    "from sklearn.model_selection import train_test_split\n",
    "\n",
    "#从数据集中读取数据，并使用train_test_split函数切分数据集，获得训练集和验证集\n",
    "X, y = load_svmlight_file('housing_scale.txt')\n",
    "\n",
    "X = X.toarray()\n",
    "X = np.c_[X, np.ones((X.shape[0],1))]\n",
    "y = y.reshape(y.shape[0], 1)\n",
    "\n",
    "#使用train_test_split函数切分数据集，分为训练集和验证集\n",
    "X_train, X_test, y_train, y_test = train_test_split(X, y, test_size=0.3, random_state=42)\n",
    "\n",
    "#对模型参数进行初始化，W为全0初始化,步长设为0.001,LAMBDA设为1,迭代次数设为100次\n",
    "W = np.zeros((X.shape[1],1))\n",
    "eta = 0.001\n",
    "LAMBDA = 1\n",
    "iterTime = 100\n",
    "\n",
    "#使用list来记录每次迭代后的loss,loss_train_list记录训练集的loss，loss_validation记录验证集的loss\n",
    "loss_train_list = []\n",
    "loss_validation_list = []\n",
    "\n",
    "#计算梯度的函数\n",
    "def calGradient( LAMBDA, W, X_train, y_train):\n",
    "    gradient = LAMBDA * W - np.dot(X_train.T, y_train).reshape(14, 1) + np.dot(np.dot(X_train.T, X_train), W)\n",
    "    return gradient\n",
    "\n",
    "#计算loss的函数\n",
    "def calLoss(LAMBDA, W, X_t, y_t):\n",
    "    X_tW = np.dot(X_t,W)   \n",
    "    loss = LAMBDA * 1/2 * np.dot(W.T,W) + 1/2 * (np.dot((y_t - X_tW).T, (y_t - X_tW)))\n",
    "    loss = loss /float(y_t.shape[0])\n",
    "    return loss\n",
    "\n",
    "#迭代过程，迭代次数为iterTime=100次\n",
    "for i in range(iterTime):\n",
    "    gradient = calGradient(LAMBDA, W, X_train, y_train)\n",
    "    W = W - eta*gradient                               #每次迭代对W进行一次更新\n",
    "    \n",
    "    Ltrain = calLoss(LAMBDA, W, X_train, y_train)      #计算训练集的loss\n",
    "    loss_train_list.append(Ltrain[0][0])               #将训练集的loss记录在loss_train_list中\n",
    "    \n",
    "    Lvalidation = calLoss(LAMBDA, W, X_test, y_test)   #计算验证集的loss\n",
    "    loss_validation_list.append(Lvalidation[0][0])     #将验证集的loss记录在loss_validation_list中\n",
    "\n",
    "#使用matplotlib来画出Ltrain和LValidation随迭代次数变化的图像\n",
    "plt.xlabel('iterate time')\n",
    "plt.ylabel('loss')\n",
    "plt.title('loss')\n",
    "x=range(len(loss_train_list))\n",
    "plt.plot(x, loss_train_list,color='blue',label=\"loss_train\")\n",
    "x=range(len(loss_validation_list))\n",
    "plt.plot(x, loss_validation_list,color='red',label=u'loss_validation')\n",
    "plt.legend(loc='upper right')\n",
    "plt.show()\n",
    "\n"
   ]
  },
  {
   "cell_type": "code",
   "execution_count": null,
   "metadata": {
    "collapsed": true
   },
   "outputs": [],
   "source": []
  }
 ],
 "metadata": {
  "kernelspec": {
   "display_name": "Python 3",
   "language": "python",
   "name": "python3"
  },
  "language_info": {
   "codemirror_mode": {
    "name": "ipython",
    "version": 3
   },
   "file_extension": ".py",
   "mimetype": "text/x-python",
   "name": "python",
   "nbconvert_exporter": "python",
   "pygments_lexer": "ipython3",
   "version": "3.6.1"
  }
 },
 "nbformat": 4,
 "nbformat_minor": 2
}
