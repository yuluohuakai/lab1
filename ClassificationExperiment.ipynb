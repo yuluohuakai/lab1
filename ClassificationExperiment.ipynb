{
 "cells": [
  {
   "cell_type": "code",
   "execution_count": 1,
   "metadata": {},
   "outputs": [
    {
     "data": {
      "image/png": "[encoded data removed]",
      "text/plain": [
       "<matplotlib.figure.Figure at 0xaa77ae3320>"
      ]
     },
     "metadata": {},
     "output_type": "display_data"
    },
    {
     "data": {
      "image/png": "[encoded data removed]",
      "text/plain": [
       "<matplotlib.figure.Figure at 0xaa7abcba20>"
      ]
     },
     "metadata": {},
     "output_type": "display_data"
    }
   ],
   "source": [
    "#实验名称：线性分类和梯度下降\n",
    "#实验日期：2017/12/2\n",
    "#实验目的：理解线性回归和梯度下降的原理\n",
    "\n",
    "import os \n",
    "os.chdir('E://dataset')\n",
    "import numpy as np\n",
    "import matplotlib.pyplot as plt\n",
    "from sklearn.datasets import load_svmlight_file\n",
    "from sklearn.model_selection import train_test_split\n",
    "\n",
    "#从数据集中读取数据，并使用train_test_split函数切分数据集，获得训练集和验证集\n",
    "X, y = load_svmlight_file('australian_scale.txt')\n",
    "X = X.toarray()\n",
    "X = np.c_[X, np.ones((X.shape[0],1))]\n",
    "y = y.reshape(y.shape[0], 1)\n",
    "X_train, X_test, y_train, y_test = train_test_split(X, y, test_size=0.3, random_state=42)\n",
    "\n",
    "\n",
    "#对模型参数进行初始化，W为全0初始化,步长设为0.001,LAMBDA设为1,迭代次数设为200次,阈值为0\n",
    "W = np.zeros((X.shape[1],1))\n",
    "eta = 0.00005\n",
    "LAMBDA = 1\n",
    "iterTime = 200\n",
    "C=1\n",
    "threshold = 0\n",
    "\n",
    "#使用list来记录每次迭代后的loss和预测正确率,loss_train_list记录训练集的loss，loss_validation记录验证集的loss\n",
    "#right_rate_train_list记录训练集的预测正确率,right_rate_validation_list记录验证集的预测正确率\n",
    "loss_train_list = []\n",
    "right_rate_train_list= []\n",
    "loss_validation_list = []\n",
    "right_rate_validation_list = []\n",
    "\n",
    "#计算hingeLoss\n",
    "def calHingeLoss(Yi,Xi,W):\n",
    "    if (1 - Yi * np.dot(W.T, Xi.T)[0][0]) > 0:\n",
    "        hingeLoss = 1 - Yi * np.dot(W.T, Xi.T)[0][0]\n",
    "    else:\n",
    "        hingeLoss = 0\n",
    "    return hingeLoss\n",
    "\n",
    "#计算梯度函数\n",
    "def calGradient(X_train, y_train, W):\n",
    "    temp = np.zeros(W.shape)\n",
    "    for index in range(X_train.shape[0]):\n",
    "        Yi = y_train[index][0]\n",
    "        Xi = X_train[index].reshape(1,X.shape[1])\n",
    "        hingeLoss = calHingeLoss(Yi, Xi, W)\n",
    "        if hingeLoss > 0:   \n",
    "            temp = temp + Yi * Xi.T\n",
    "        else:\n",
    "            temp = temp + np.zeros(W.shape)\n",
    "    gradient = W - C * temp\n",
    "    return gradient\n",
    "\n",
    "#计算损失值函数\n",
    "def calLoss(W, X_t, y_t):\n",
    "    temp=0\n",
    "    for index in range(y_t.shape[0]):\n",
    "        Yi = y_t[index][0]\n",
    "        Xi = X_t[index].reshape(1,X_t.shape[1])\n",
    "        temp += calHingeLoss(Yi, Xi, W)\n",
    "    temp = C * temp \n",
    "    loss = 1/2 * np.dot(W.T,W) + temp\n",
    "    loss = loss /float(y_t.shape[0])\n",
    "    return loss\n",
    "\n",
    "#迭代过程，迭代次数为iterTime=200次\n",
    "for i in range(iterTime):\n",
    "    gradient = calGradient(X_train, y_train, W)\n",
    "    W = W - eta*gradient                        #每次迭代对W进行一次更新\n",
    "  \n",
    "    Ltrain = calLoss(W, X_train, y_train)       #计算训练集的loss\n",
    "    loss_train_list.append(Ltrain[0][0])        #将训练集的loss记录在loss_train_list中\n",
    "    \n",
    "    Ltest = calLoss(W, X_test, y_test)          #计算验证集的loss\n",
    "    loss_validation_list.append(Ltest[0][0])    #将验证集的loss记录在loss_validation_list中\n",
    "    \n",
    "    right = 0                                   #记录正确预测的样本数\n",
    "    for index in range(len(X_train)):\n",
    "        Ypredict= np.dot(X_train[index], W)\n",
    "        if Ypredict > 0:\n",
    "            Ypredict = 1\n",
    "        else:\n",
    "            Ypredict = -1\n",
    "        if Ypredict == y_train[index][0]:\n",
    "            right += 1\n",
    "        rightRate=right/float(y_train.shape[0])\n",
    "    right_rate_train_list.append(rightRate)     #将训练集的rightRate记录在right_rate_train_list中\n",
    "   \n",
    "    right = 0                                   #记录正确预测的样本数\n",
    "    for index in range(len(X_test)):\n",
    "        Ypredict= np.dot(X_test[index], W)\n",
    "        if Ypredict > 0:\n",
    "            Ypredict = 1\n",
    "        else:\n",
    "            Ypredict = -1\n",
    "        if Ypredict == y_test[index][0]:\n",
    "            right += 1\n",
    "        rightRate=right/float((y_test.shape[0])) \n",
    "    right_rate_validation_list.append(rightRate) #将验证集的rightRate记录在right_rate_validation_list中\n",
    "    \n",
    "#使用matplotlib来画出Ltrain和LValidation以及rightRate随迭代次数变化的图像\n",
    "plt.xlabel('iteration time')\n",
    "plt.ylabel('loss')\n",
    "plt.title('loss')\n",
    "x=range(len(loss_train_list))\n",
    "plt.plot(x, loss_train_list,color='blue',label=\"loss_train\")\n",
    "x=range(len(loss_validation_list))\n",
    "plt.plot(x, loss_validation_list,color='red',label='loss_validation')\n",
    "plt.legend(loc='upper right')\n",
    "plt.margins(0.03)\n",
    "plt.show()\n",
    "\n",
    "plt.xlabel('iteration time')\n",
    "plt.ylabel('Rate')\n",
    "plt.title('right rate')\n",
    "x=range(len(right_rate_train_list))\n",
    "plt.plot(x,right_rate_train_list,'b-',label=\"rate_train\")\n",
    "x=range(len(right_rate_validation_list))\n",
    "plt.plot(x,right_rate_validation_list,'r-',label=\"rate_validation\")\n",
    "plt.legend(loc='upper right')\n",
    "plt.show()"
   ]
  },
  {
   "cell_type": "code",
   "execution_count": null,
   "metadata": {
    "collapsed": true
   },
   "outputs": [],
   "source": []
  },
  {
   "cell_type": "code",
   "execution_count": null,
   "metadata": {
    "collapsed": true
   },
   "outputs": [],
   "source": []
  },
  {
   "cell_type": "code",
   "execution_count": null,
   "metadata": {
    "collapsed": true
   },
   "outputs": [],
   "source": []
  }
 ],
 "metadata": {
  "kernelspec": {
   "display_name": "Python 3",
   "language": "python",
   "name": "python3"
  },
  "language_info": {
   "codemirror_mode": {
    "name": "ipython",
    "version": 3
   },
   "file_extension": ".py",
   "mimetype": "text/x-python",
   "name": "python",
   "nbconvert_exporter": "python",
   "pygments_lexer": "ipython3",
   "version": "3.6.1"
  }
 },
 "nbformat": 4,
 "nbformat_minor": 2
}
